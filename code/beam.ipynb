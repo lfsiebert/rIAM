{
 "cells": [
  {
   "cell_type": "code",
   "execution_count": 72,
   "id": "b666bd3f",
   "metadata": {},
   "outputs": [],
   "source": [
    "import numpy as np\n",
    "import pandas as pd\n",
    "import matplotlib.pyplot as plt\n",
    "from matplotlib.patches import Rectangle\n",
    "import cartopy.crs as ccrs\n",
    "import cartopy.feature as cfeature\n",
    "import PyCO2SYS as pyco2\n",
    "import xarray as xr\n",
    "from datetime import datetime\n",
    "from scipy.optimize import minimize"
   ]
  },
  {
   "cell_type": "code",
   "execution_count": 73,
   "id": "ffeb5ac8",
   "metadata": {},
   "outputs": [],
   "source": [
    "# import data from csv file\n",
    "data = pd.read_csv('carbon_species_alk_dic_table.csv', usecols=[0, 1])\n",
    "\n",
    "# save first column as alkalinity\n",
    "alkalinity = data.iloc[:, 0].values\n",
    "# save second column as DIC\n",
    "dic = data.iloc[:, 1].values\n"
   ]
  },
  {
   "cell_type": "code",
   "execution_count": 74,
   "id": "2a272341",
   "metadata": {},
   "outputs": [
    {
     "name": "stdout",
     "output_type": "stream",
     "text": [
      "Alkalinity: [2321.34753  2321.34753  2321.34753  2321.34753  2321.34753  2321.34753\n",
      " 2321.34753  2321.34753  2321.34753  2321.34753  2321.34753  2321.34753\n",
      " 2321.34753  2321.34753  2321.34753  2321.34753  2321.34753  2321.34753\n",
      " 2321.34753  2321.34753  2321.34753  2321.34753  2417.687397 2417.687397\n",
      " 2417.687397 2417.687397 2417.687397 2417.687397 2417.687397 2417.687397\n",
      " 2417.687397 2417.687397 2417.687397 2417.687397 2417.687397 2417.687397\n",
      " 2417.687397 2417.687397 2417.687397 2417.687397 2417.687397 2417.687397\n",
      " 2417.687397 2417.687397]\n",
      "DIC: [2019.05574   2029.8126195 2040.569499  2051.3263785 2062.083258\n",
      " 2072.8401375 2083.597017  2094.3538965 2105.110776  2115.8676555\n",
      " 2126.624535  2137.3814145 2148.138294  2158.8951735 2169.652053\n",
      " 2180.4089325 2191.165812  2201.9226915 2212.679571  2223.4364505\n",
      " 2234.19333   2244.9502095 2019.05574   2029.8126195 2040.569499\n",
      " 2051.3263785 2062.083258  2072.8401375 2083.597017  2094.3538965\n",
      " 2105.110776  2115.8676555 2126.624535  2137.3814145 2148.138294\n",
      " 2158.8951735 2169.652053  2180.4089325 2191.165812  2201.9226915\n",
      " 2212.679571  2223.4364505 2234.19333   2244.9502095]\n"
     ]
    }
   ],
   "source": [
    "print(\"Alkalinity:\", alkalinity)\n",
    "print(\"DIC:\", dic)\n",
    "\n",
    "# If you have constant temperature and salinity, set them here:\n",
    "temperature = np.full_like(dic, 19.0)  # degrees Celsius\n",
    "salinity = np.full_like(dic, 35.0)     # PSU"
   ]
  },
  {
   "cell_type": "code",
   "execution_count": 75,
   "id": "9b9441df",
   "metadata": {},
   "outputs": [],
   "source": [
    "# Call PyCO2SYS\n",
    "results = pyco2.sys(\n",
    "    par1=alkalinity,\n",
    "    par2=dic,\n",
    "    par1_type=1,   # 1 = total alkalinity\n",
    "    par2_type=2,   # 2 = DIC\n",
    "    salinity=salinity,\n",
    "    temperature=temperature,\n",
    "    opt_k_carbonic=11,  # Mojica Prieto, F. J., and Millero, F. J. (2002). The values of pK1 + pK2 for the dissociation of carbonic acid in seawater. Geochimica et Cosmochimica Acta 66, 2529–2540. doi:10.1016/S0016-7037(02)00855-4.\n",
    ")"
   ]
  },
  {
   "cell_type": "code",
   "execution_count": 76,
   "id": "5faf97e4",
   "metadata": {},
   "outputs": [],
   "source": [
    "# Extract desired outputs\n",
    "carbonate = results['CO3']           # µmol/kg\n",
    "bicarbonate = results['HCO3']        # µmol/kg\n",
    "pco2 = results['pCO2']               # µatm\n",
    "ph = results['pH']                   # pH on total scale\n",
    "\n",
    "# Optionally, add results to your DataFrame\n",
    "data['Temperature'] = temperature\n",
    "data['Salinity'] = salinity\n",
    "data['Carbonate'] = carbonate\n",
    "data['Bicarbonate'] = bicarbonate\n",
    "data['pCO2'] = pco2\n",
    "data['pH'] = ph\n",
    "\n",
    "\n",
    "# Save to CSV\n",
    "data.to_csv('carbon_species_results_prieto.csv', index=False)"
   ]
  },
  {
   "cell_type": "code",
   "execution_count": null,
   "id": "0212faac",
   "metadata": {},
   "outputs": [],
   "source": []
  },
  {
   "cell_type": "code",
   "execution_count": null,
   "id": "ad1a8ea9",
   "metadata": {},
   "outputs": [],
   "source": []
  }
 ],
 "metadata": {
  "kernelspec": {
   "display_name": "seao2cdr",
   "language": "python",
   "name": "python3"
  },
  "language_info": {
   "codemirror_mode": {
    "name": "ipython",
    "version": 3
   },
   "file_extension": ".py",
   "mimetype": "text/x-python",
   "name": "python",
   "nbconvert_exporter": "python",
   "pygments_lexer": "ipython3",
   "version": "3.11.11"
  }
 },
 "nbformat": 4,
 "nbformat_minor": 5
}
